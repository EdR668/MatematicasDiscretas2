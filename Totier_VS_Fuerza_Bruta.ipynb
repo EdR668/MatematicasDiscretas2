{
  "nbformat": 4,
  "nbformat_minor": 0,
  "metadata": {
    "colab": {
      "provenance": []
    },
    "kernelspec": {
      "name": "python3",
      "display_name": "Python 3"
    },
    "language_info": {
      "name": "python"
    }
  },
  "cells": [
    {
      "cell_type": "markdown",
      "source": [
        "\n",
        "#COMPARACIÓN FUERZA BRUTA VS EULER TOTIENT\n",
        "\n",
        "\n",
        "*Matematicas Discretas 2: 2023-1*\n",
        "\n",
        "*Eder José Hernández Buelvas*\n",
        "\n",
        "\n",
        "\n",
        "---\n",
        "\n",
        "\n",
        "ENUNCIADO:\n",
        "\n",
        "Crear una algoritmo que calcule la cantidad de generadores de un grupo\n",
        "por medio de fuerza bruta y totier de Euler para comparar su rendimiento"
      ],
      "metadata": {
        "id": "rWFOFuFLD3sT"
      }
    },
    {
      "cell_type": "code",
      "source": [
        "import time #Importamos la librería TIME para calcular el rendimiento en terminos de eficiencia en tiempo de ejecución"
      ],
      "metadata": {
        "id": "wBrCqKGfDuAQ"
      },
      "execution_count": null,
      "outputs": []
    },
    {
      "cell_type": "markdown",
      "source": [
        "Primero, se programarán las funciones para hacer el metodo de fuerza bruta: MCD y CUENTA; funciones que sacan el maximo común divisor y que cuentan el numero de generadores que va encontrando por medio de un ciclo, verificando si estos dos son o no son coprimos(En el caso de que sí lo sea, se incrementa el contador)."
      ],
      "metadata": {
        "id": "lbdGInxSGZCf"
      }
    },
    {
      "cell_type": "code",
      "source": [
        "def mcd(a, b):\n",
        "    if b == 0: \n",
        "        return a \n",
        "    else:\n",
        "        return mcd(b, a%b) # Recursivamente calcular el maximo comun divisor de dos numeros.\n",
        "    \n",
        "def cuenta(length):\n",
        "    generadores=0\n",
        " \n",
        "    for i in range(1,length): #Recorrer 1 a 1 los numeros menores al numero en cuestion\n",
        "        \n",
        "            if mcd(length,i)==1: #Verificar los numeros coprimos menores al numero en cuestión\n",
        "                generadores+=1 #Contar los coprimos menores\n",
        "    return generadores #Retornar el total de contadores."
      ],
      "metadata": {
        "id": "nUn0hypDG4Ef"
      },
      "execution_count": null,
      "outputs": []
    },
    {
      "cell_type": "markdown",
      "source": [
        "Para el metodo Totier de Euler, se utilizará la función \"descomponer\". Lo primero que hace la función es generar una lista de factores primos de n y  otra lista sin repeticiones. Luego, cuenta el numero de repeticiones comparando con la lista de primos inicial y la lista que no tiene repeticiones. Para contabilizar la potencia que se usará para calcular la función Totient de Euler.  Con esta información, en un ultimo ciclo, calcula el producto de los primos, utilizando la propiedades Totient de Euler. Para generar la respuesta. \n"
      ],
      "metadata": {
        "id": "_B3Pkvw6HOse"
      }
    },
    {
      "cell_type": "code",
      "source": [
        "def descomponer(n):\n",
        "    primos=[]\n",
        "    rep=[]\n",
        "\n",
        "    for i in range(2,n+1):\n",
        "        while n%i==0: \n",
        "            primos.append(i)\n",
        "            n=n/i #Generar una lista de factores primos. \n",
        "            \n",
        "    sin_rep=list(set(primos)) #Quitar las repeticiones\n",
        "    recorrido=0\n",
        "    for i in range(len(sin_rep)):\n",
        "        cuenta=0\n",
        "        \n",
        "        for j in range(recorrido,len(primos)):\n",
        "            if sin_rep[i]==primos[j]: #Verificar coincidencias para contar las repeticiones\n",
        "                cuenta+=1 #Contar las repeticiones\n",
        "            else:\n",
        "                j=len((primos)) \n",
        "                j=recorrido #Acortar el recorrido para no repetir los ciclos.\n",
        "        rep.append(cuenta) #Guardar las repeticiones  \n",
        "\n",
        "    suma=1 #Inicializar la productoria en 1 \n",
        "\n",
        "    for i in range(len(sin_rep)): #Para cada elemento se utilizarán las propiedades \n",
        "        \n",
        "        aux= pow(sin_rep[i],rep[i])-pow(sin_rep[i],(rep[i]-1)) #Se usa la propiedad de la función Totier de Euler \n",
        "        \n",
        "        suma*=aux #Se hace la productoria\n",
        "        \n",
        "    return suma #Retorna el resultado de la productoria."
      ],
      "metadata": {
        "id": "RgWVfx2rHYuy"
      },
      "execution_count": null,
      "outputs": []
    },
    {
      "cell_type": "markdown",
      "source": [
        "Para mostrar la comparación se decidió mostrar el tiempo de compilación de ambos metodos en pantalla para demostrar la eficiencia en terminos computacionales: "
      ],
      "metadata": {
        "id": "n8HeB8U5M1ME"
      }
    },
    {
      "cell_type": "code",
      "source": [
        "\n",
        "a=int(input(\"Digite el numero a comparar:\")) #Digitar numero\n",
        "inicio=time.time() #Iniciar contador de tiempo \n",
        "print(\"Metodo Phi2: \"+str(descomponer(a))) #Usar METODO Phi2\n",
        "fin=time.time() #Detener contador\n",
        "print(fin-inicio) #Imprimir tiempo de ejecución\n",
        "inicio=time.time()#Iniciar contador de tiempo\n",
        "print(\"Metodo fuerza bruta: \"+str(cuenta(a)))#Usar FUERZA BRUTA\n",
        "fin=time.time()#Detener contador\n",
        "print(fin-inicio)#Imprimir tiempo de ejecución\n",
        "\n",
        "# Digite el numero a comparar:1500000\n",
        "# Metodo Phi2: 400000\n",
        "# 0.20804905891418457\n",
        "# Metodo fuerza bruta: 400000\n",
        "# 4.999911069869995\n",
        "\n",
        "#Una eficiencia de 24 veces menos tiempo que la fuerza bruta. \n"
      ],
      "metadata": {
        "colab": {
          "base_uri": "https://localhost:8080/"
        },
        "id": "PUgpeuFkNAdH",
        "outputId": "b10dd443-6bc9-4679-b060-d117ccb7eb80"
      },
      "execution_count": null,
      "outputs": [
        {
          "output_type": "stream",
          "name": "stdout",
          "text": [
            "Digite el numero a comparar:1500000\n",
            "Metodo Phi2: 400000\n",
            "0.20804905891418457\n",
            "Metodo fuerza bruta: 400000\n",
            "4.999911069869995\n"
          ]
        }
      ]
    },
    {
      "cell_type": "code",
      "source": [],
      "metadata": {
        "colab": {
          "base_uri": "https://localhost:8080/"
        },
        "id": "cbttjxybQbg_",
        "outputId": "a773f137-02f9-4656-fc06-b39c8412f68f"
      },
      "execution_count": null,
      "outputs": [
        {
          "output_type": "stream",
          "name": "stdout",
          "text": [
            "[2, 5]\n"
          ]
        }
      ]
    }
  ]
}