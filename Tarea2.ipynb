{
  "cells": [
    {
      "cell_type": "markdown",
      "metadata": {
        "id": "yCrwWHfod9Oy"
      },
      "source": [
        "*ALGORITMO PARA DETERMINAR SI UN CONJUNTO ES UN GRUPO O CUADRO LATINO.*\n",
        "\n",
        "*Matematicas Discretas 2: 2023-1*\n",
        "\n",
        "*Eder José Hernández Buelvas*\n",
        "\n",
        "El problema se nos presenta como el procesamiento de un conjunto y una matriz asociada para determinar ciertas propiedades de grupo y de cuadro latino, en un caso especifico, con el objetivo de utilizar programación para generar un algoritmo capaz de discernir este tipo de decisiones de manera optima."
      ]
    },
    {
      "cell_type": "code",
      "execution_count": null,
      "metadata": {
        "id": "j7RZybnQd9Ov"
      },
      "outputs": [],
      "source": [
        "# Importar la librería numpy, que se usa para trabajar con arreglos y matrices multidimensionales.\n",
        "import numpy as np\n",
        "# Importar la librería itertools, que se usa para trabajar con permutaciones y combinaciones.\n",
        "import itertools"
      ]
    },
    {
      "cell_type": "markdown",
      "metadata": {
        "id": "ObvmHSlLd9O0"
      },
      "source": [
        "DESARROLLO DE LA SOLUCIÓN DEL PROBLEMA."
      ]
    },
    {
      "cell_type": "markdown",
      "metadata": {
        "id": "uHfSHqJLd9O0"
      },
      "source": [
        "El problema se va a resolver de manera escalonada, para ahorrar potencia de procesamiento y tiempo de ejecución, por esta razón se va a determinar la presencia de cada caracteristica y en base a la presencia o no presencia de cada caracteristica, se va a determinar continuar o no con el codigo. \n",
        "\n",
        "Para esto, se determinarán las caracteristicas en el siguiente orden:\n",
        "- ¿La operación es cerrada?\n",
        "- ¿Existe un del elemento neutro?\n",
        "- ¿Existen elementos inversos?\n",
        "- ¿La operación es asociativa?\n",
        "\n",
        "Por esta razón, si alguna de estas propiedades no se encuentra, el algoritmo va a determinar que no es un grupo al no continuar con el proceso de las otras propiedades, después de esto, veremos si es o no es un cuadro latino.\n",
        "\n",
        "El orden de las funciones que determinan las propiedades están en el orden de menor a mayor requerimiento computacional, para optimizar el tiempo de ejecución:\n",
        "\n",
        "    Operación cerrada > Elemento neutro > Elementos inversos > Asociatividad\n",
        "\n"
      ]
    },
    {
      "cell_type": "markdown",
      "metadata": {
        "id": "scEWWJb1d9O1"
      },
      "source": [
        "Comenzamos por ingresar el caso especifico en el que vamos a comprobar las propiedades."
      ]
    },
    {
      "cell_type": "code",
      "execution_count": null,
      "metadata": {
        "id": "_KJ3n4sRd9O1"
      },
      "outputs": [],
      "source": [
        "# Definimos un conjunto con elementos que representan la identidad y otros elementos del grupo. \n",
        "# Luego, definimos la matriz de Cayley que se usará para verificar si el conjunto es un grupo o un cuadrado latino.\n",
        "Conjunto =np.array(['e','g1','g2','g3','g4','g5'])\n",
        "Matriz = np.array([\n",
        "            [ 'e','g1','g2','g3','g4','g5'],\n",
        "            ['g1', 'e','g3','g4','g5','g2'],\n",
        "            ['g2','g3', 'e','g5','g1','g4'],\n",
        "            ['g3','g4','g5', 'e','g2','g1'],\n",
        "            ['g4','g5','g1','g2', 'e','g3'],\n",
        "            ['g5','g2','g4','g1','g3','e']\n",
        "         ])"
      ]
    },
    {
      "cell_type": "markdown",
      "metadata": {
        "id": "iOVFb08Cd9O2"
      },
      "source": [
        "Declaramos las banderas donde se guardan las propiedades de nuestra matriz, todas inicializadas en falso."
      ]
    },
    {
      "cell_type": "code",
      "execution_count": null,
      "metadata": {
        "id": "bb3BsfvBd9O3"
      },
      "outputs": [],
      "source": [
        "# Creamos variables para almacenar los resultados de las verificaciones que se realizarán más adelante.\n",
        "\n",
        "EsCerrada=False\n",
        "HayNeutro=False\n",
        "HayInversos=False\n",
        "EsAsociativa=False"
      ]
    },
    {
      "cell_type": "markdown",
      "metadata": {
        "id": "TXUvirjyd9O4"
      },
      "source": [
        "El primer paso es comprobar si la operación es cerrada. Para esto, se utiliza la función VerificarCerrada():  Esta función toma como argumentos una matriz y un conjunto y devuelve un valor booleano que indica si la matriz es cerrada en relación al conjunto o no. La función itera sobre cada elemento de la matriz y verifica si ese elemento es un miembro del conjunto. Si un elemento de la matriz no es un miembro del conjunto, la función devuelve False para indicar que la matriz no es cerrada."
      ]
    },
    {
      "cell_type": "markdown",
      "source": [],
      "metadata": {
        "id": "K0iMiV5aujoz"
      }
    },
    {
      "cell_type": "code",
      "execution_count": null,
      "metadata": {
        "id": "uiGmV0Ysd9O4"
      },
      "outputs": [],
      "source": [
        "# Función que verifica si la matriz es cerrada (es decir, si todos los elementos de la matriz pertenecen al conjunto).\n",
        "def VerificarCerrada(Conjunto, Matriz):\n",
        "    tamMatriz = len(Matriz)\n",
        "    for i in range(tamMatriz):\n",
        "        for j in range(tamMatriz):\n",
        "            if (Matriz[i][j] not in Conjunto):\n",
        "                return False\n",
        "    return True"
      ]
    },
    {
      "cell_type": "markdown",
      "metadata": {
        "id": "RVhTQlTLd9O5"
      },
      "source": [
        "Para el elemento neutro, CalcularNeutro() como argumentos una matriz y un conjunto y devuelve un valor booleano que indica si existe un elemento neutral para la operación definida por la matriz en relación al conjunto, y el propio elemento neutro en caso de existir. Para buscar el elemento neutro, la función verifica si cada fila y columna de la matriz es igual al conjunto (sin contar la diagonal principal de la matriz). Si encuentra una fila y una columna que cumplen esta condición, devuelve True y el elemento de esa fila/columna en el conjunto como el elemento neutro. Si no encuentra un elemento neutro, devuelve False."
      ]
    },
    {
      "cell_type": "markdown",
      "metadata": {
        "id": "DM0wpxwnd9O5"
      },
      "source": [
        "Explicacion de esta parte (cada uno)"
      ]
    },
    {
      "cell_type": "code",
      "execution_count": null,
      "metadata": {
        "id": "P6-ys4OBd9O6"
      },
      "outputs": [],
      "source": [
        "# Retorna un booleano que indica si hay o no un elemento neutro en la matriz y el valor del elemento neutro encontrado (en caso de existir).\n",
        "def CalcularNeutro(Conjunto,Matriz):\n",
        "\n",
        "    Neutrofila=[False,None]\n",
        "    Neutrocolumna=[False,None]\n",
        "    TamMatriz = len(Matriz)\n",
        "    MatTranspuesta = Matriz.transpose()\n",
        "\n",
        "    for i in range(TamMatriz):\n",
        "        if(np.array_equal(Matriz[i],Conjunto)):\n",
        "            Neutrofila[0]=True\n",
        "            Neutrofila[1]=Conjunto[i]\n",
        "\n",
        "        if(np.array_equal(MatTranspuesta[i],Conjunto)):\n",
        "            Neutrocolumna[0]=True    \n",
        "            Neutrocolumna[1]=Conjunto[i]\n",
        "\n",
        "        if (Neutrofila[0] and Neutrocolumna[0] and (Neutrofila[1]==Neutrocolumna[1])):\n",
        "            return True, Neutrofila[1]\n",
        "\n",
        "    return False, None\n"
      ]
    },
    {
      "cell_type": "markdown",
      "metadata": {
        "id": "dhRHSReJd9O6"
      },
      "source": [
        "Para los elementos inversos, buscamos por cada elemento, otro que multiplicado con el inicial por izquierda nos de el identidad, y verificamos que esto sea conmutativo."
      ]
    },
    {
      "cell_type": "markdown",
      "metadata": {
        "id": "PByqS14Ad9O6"
      },
      "source": [
        "Buscamos el elemento neutro de la matriz, si la operación es cerrada. De lo contrario, no continuamos la verificación "
      ]
    },
    {
      "cell_type": "code",
      "execution_count": null,
      "metadata": {
        "id": "QoyLG8lnd9O6"
      },
      "outputs": [],
      "source": [
        "EsCerrada = VerificarCerrada(Conjunto, Matriz)\n",
        "#Buscamos el elemento Neutro, sí o solo sí la función es cerrada.\n",
        "if (EsCerrada):\n",
        "    HayNeutro, Neutro = CalcularNeutro(Conjunto,Matriz)\n",
        "\n",
        "\n"
      ]
    },
    {
      "cell_type": "markdown",
      "metadata": {
        "id": "QQQCGl0bd9O6"
      },
      "source": [
        "La función BuscarInverso toma como argumentos el número de un elemento en el conjunto, la matriz y el elemento neutro y devuelve un valor booleano que indica si el elemento tiene un inverso en relación a la operación definida por la matriz y el conjunto. La función busca el elemento neutro en la fila correspondiente a NumElemento en la matriz. Si encuentra el elemento neutro, busca el elemento correspondiente en la columna del elemento neutro en la matriz. Si ese elemento es igual al elemento correspondiente en la fila del elemento neutro, devuelve True para indicar que el elemento tiene un inverso. Si el elemento no tiene un inverso, devuelve False."
      ]
    },
    {
      "cell_type": "code",
      "execution_count": null,
      "metadata": {
        "id": "EMf4vMJKd9O7"
      },
      "outputs": [],
      "source": [
        "#Buscamos el inverso de cada elemento del conjunto, en la fila donde se encuentra el elemento.\n",
        "def BuscarInverso(NumElemento,Conjunto,Matriz,Neutro):\n",
        "    MatTranspuesta = Matriz.transpose()\n",
        "    InversoFila=None\n",
        "    InversoColumna=None\n",
        "    if (Neutro in Matriz[NumElemento]): \n",
        "        InversoFila=Conjunto[np.where(Matriz[NumElemento]==Neutro)]\n",
        "    if (InversoFila):\n",
        "        if (Neutro in MatTranspuesta[NumElemento]): \n",
        "            InversoColumna=Conjunto[np.where(MatTranspuesta[NumElemento]==Neutro)]\n",
        "        if(InversoFila==InversoColumna):\n",
        "            return True\n",
        "    return False\n",
        "\n",
        "# Verificamos si los elementos inversos son unicos para todo elemento en G\n",
        "def VerificarInversos(Conjunto,Matriz,Neutro):\n",
        "    for numelemento in range(len(Conjunto)):\n",
        "        if (not BuscarInverso(numelemento,Conjunto,Matriz,Neutro)):\n",
        "            return False\n",
        "    return True\n"
      ]
    },
    {
      "cell_type": "markdown",
      "metadata": {
        "id": "fD3E5OVjd9O7"
      },
      "source": [
        "Verificamos que cada elemento dentro de G, tenga inverso."
      ]
    },
    {
      "cell_type": "code",
      "execution_count": null,
      "metadata": {
        "id": "SI__fsSnd9O7"
      },
      "outputs": [],
      "source": [
        "if (HayNeutro):\n",
        "    HayInversos=VerificarInversos(Conjunto,Matriz,Neutro)\n"
      ]
    },
    {
      "cell_type": "markdown",
      "metadata": {
        "id": "xGy3Di1Ud9O7"
      },
      "source": [
        "Para la asociatividad, la función IsAsociative() toma como argumentos una matriz y un conjunto, y devuelve un valor booleano que indica si la operación definida por la matriz es asociativa en relación al conjunto. La función crea todas las posibles combinaciones de tres elementos del conjunto y verifica si la operación definida por la matriz para esos elementos es igual independientemente del orden en que se realizan las operaciones. Si encuentra un conjunto de tres elementos para los que la operación no es asociativa, devuelve False para indicar que la matriz no define un grupo."
      ]
    },
    {
      "cell_type": "markdown",
      "metadata": {
        "id": "kxl-qovOd9O7"
      },
      "source": [
        "Explicacion de esta parte (cada uno)"
      ]
    },
    {
      "cell_type": "code",
      "execution_count": null,
      "metadata": {
        "id": "1QSpuK8Wd9O8"
      },
      "outputs": [],
      "source": [
        "\n",
        "def IsAsociative(Conjunto,Matriz):\n",
        "    n = len(Conjunto)\n",
        "    lista=[]\n",
        "    for i in range(n):\n",
        "      lista.append(i)\n",
        "    result = []\n",
        "    for i in range(n-2):\n",
        "        for j in range(i+1, n-1):\n",
        "            for k in range(j+1, n):\n",
        "                result.append([lista[i], lista[j], lista[k]])\n",
        "    \n",
        "    ban=True\n",
        "    posibilidades=result\n",
        "    for i in range(len(posibilidades)):\n",
        "      resultado1=np.where(Conjunto==Matriz[posibilidades[i][1]][posibilidades[i][2]])[0][0]\n",
        "      resultado2=np.where(Conjunto==Matriz[posibilidades[i][0]][posibilidades[i][1]])[0][0]\n",
        "      if(Matriz[(posibilidades[i][0])][resultado1]!=Matriz[resultado2][(posibilidades[i][2])]):\n",
        "        ban=False\n",
        "        i=len(posibilidades)-1\n",
        "    return ban\n",
        "    \n",
        "\n",
        "\n"
      ]
    },
    {
      "cell_type": "markdown",
      "metadata": {
        "id": "VEmut0S_d9O8"
      },
      "source": [
        "Verificamos que la operación sea asociativa, si cada elemento tiene inverso. De lo contrario, pasamos a verificar si la tabla es un cuadrado latino."
      ]
    },
    {
      "cell_type": "code",
      "execution_count": null,
      "metadata": {
        "id": "W3okORAMd9O8"
      },
      "outputs": [],
      "source": [
        "if (HayInversos):\n",
        "    EsAsociativa = IsAsociative(Conjunto,Matriz)"
      ]
    },
    {
      "cell_type": "markdown",
      "metadata": {
        "id": "iO4gcUsSd9O8"
      },
      "source": [
        "Si estas tres comprobaciones se cumplen, podemos decir que la matriz inicial es un grupo (Y a su vez, un cuadrado latino). Si no, procedemos a verificar si la matriz es un cuadro inicial o no."
      ]
    },
    {
      "cell_type": "code",
      "execution_count": null,
      "metadata": {
        "id": "uJCo2K_Hd9O8"
      },
      "outputs": [],
      "source": [
        "if (EsCerrada and HayNeutro and HayInversos and EsAsociativa):\n",
        "    print(\"El conjunto más la operación definida por la tabla de Cayley ingresadas son un grupo, y un cuadrado latino.\")\n",
        "else:\n",
        "    print(\"El conjunto más la operación definida por la tabla de Cayley ingresadas NO son un grupo\")\n",
        "    EsGrupo=False\n"
      ]
    },
    {
      "cell_type": "markdown",
      "metadata": {
        "id": "WHQH3Jgod9O9"
      },
      "source": [
        "Si identificamos en el paso anterior que la matriz NO es un grupo, procedemos a verificar si es un cuadrado latino o no."
      ]
    },
    {
      "cell_type": "markdown",
      "metadata": {
        "id": "z5vbIXXXd9O9"
      },
      "source": [
        "La función para saber si es un cuadro latino LatinSquareBool(Matriz) recibe como entrada una matriz y determina si es un cuadrado latino (Latin square) o no. Un cuadrado latino es una matriz cuadrada en la que cada fila y cada columna contiene una permutación de los mismos elementos. En otras palabras, cada fila y cada columna tiene exactamente una vez cada elemento.\n",
        "\n",
        "La función comienza inicializando una variable booleana LatinSquare en True y dos listas: result y permutations. Luego, cuenta el número de elementos repetidos en la primera fila de la matriz. Si hay al menos uno, se establece LatinSquare en False, ya que la primera fila debe contener una permutación de los mismos elementos. Si esto es así, se obtienen todas las permutaciones posibles de los elementos únicos en la primera fila y se almacenan en la lista permutations.\n",
        "\n",
        "A continuación, la función itera sobre cada fila de la matriz y su correspondiente transposición para verificar si cada fila y columna contiene una permutación de los mismos elementos. Si alguna fila o columna no es una permutación de los elementos en permutations, se establece LatinSquare en False.\n",
        "\n",
        "Finalmente, la función devuelve el valor de LatinSquare, que será True si la matriz es un cuadrado latino y False en caso contrario."
      ]
    },
    {
      "cell_type": "code",
      "execution_count": null,
      "metadata": {
        "id": "Ujb6xN5cd9O9"
      },
      "outputs": [],
      "source": [
        "# Proceso para verificar si es un cuadrado latino o no\n",
        "def LatinSquareBool(Matriz):\n",
        "  LatinSquare=True\n",
        "  result = []\n",
        "  cuenta=0\n",
        "  for item in Matriz[0]:\n",
        "      if item not in result:\n",
        "          result.append(item)\n",
        "      else:\n",
        "        cuenta+=1\n",
        "  if cuenta>=1:\n",
        "    LatinSquare=False\n",
        "  else:\n",
        "\n",
        "    permutations = list(itertools.permutations(result))\n",
        "    filas=np.shape(Matriz)[0]\n",
        "    Trans=np.transpose(Matriz)\n",
        "    permutaciones= list(map(list,permutations))\n",
        "    for i in range(filas):\n",
        "\n",
        "      if Matriz[i].tolist() not in permutaciones or Trans[i].tolist() not in permutaciones:\n",
        "        LatinSquare=False\n",
        "  return LatinSquare\n",
        "\n",
        "\n"
      ]
    },
    {
      "cell_type": "markdown",
      "metadata": {
        "id": "2dVqjOgdd9O9"
      },
      "source": [
        "Procedemos a la muestra de resultados, de acuerdo con los resultados analizados en los pasos anteriores, para que sean interpletables por cualquier persona."
      ]
    },
    {
      "cell_type": "code",
      "execution_count": null,
      "metadata": {
        "id": "MI_hVFRcd9O9"
      },
      "outputs": [],
      "source": [
        "#Analisis y muestra de resultados.\n",
        "\n",
        "if(LatinSquareBool(Matriz)):\n",
        "    print(\"La matriz ingresada es un cuadrado latino\")\n",
        "else:\n",
        "  print(\"La matriz ingresada no es un cuadrado latino\")\n"
      ]
    },
    {
      "cell_type": "markdown",
      "metadata": {
        "id": "S-mI5kXCd9O9"
      },
      "source": [
        "Bibliografía\n",
        "\n",
        "https://marcelgoh.ca/2018/10/06/cayley-tables.html \n",
        "\n",
        "Clifford, Alfred Hoblitzelle; Preston, Gordon Bamford (1961). The algebraic theory of semigroups. Vol. I. Mathematical Surveys, No. 7. Providence, R.I.: American Mathematical Society. ISBN 978-0-8218-0272-4. MR 0132791. (pp. 7–9)\n",
        "\n",
        "https://gist.github.com/jfinkels/c33681e7f7b54421ea02"
      ]
    }
  ],
  "metadata": {
    "kernelspec": {
      "display_name": "Python 3",
      "language": "python",
      "name": "python3"
    },
    "language_info": {
      "codemirror_mode": {
        "name": "ipython",
        "version": 3
      },
      "file_extension": ".py",
      "mimetype": "text/x-python",
      "name": "python",
      "nbconvert_exporter": "python",
      "pygments_lexer": "ipython3",
      "version": "3.10.2"
    },
    "orig_nbformat": 4,
    "vscode": {
      "interpreter": {
        "hash": "cb0f5aa502a22d06408b0f4762a160f5914c094cb3a1ad1bf7072f0354307a69"
      }
    },
    "colab": {
      "provenance": []
    }
  },
  "nbformat": 4,
  "nbformat_minor": 0
}