{
  "nbformat": 4,
  "nbformat_minor": 0,
  "metadata": {
    "colab": {
      "provenance": []
    },
    "kernelspec": {
      "name": "python3",
      "display_name": "Python 3"
    },
    "language_info": {
      "name": "python"
    }
  },
  "cells": [
    {
      "cell_type": "markdown",
      "source": [
        "\n",
        "#TEOREMA DE LAGRANGE\n",
        "\n",
        "\n",
        "*Matematicas Discretas 2: 2023-1*\n",
        "\n",
        "*Eder José Hernández Buelvas*\n",
        "\n",
        "\n",
        "\n",
        "---\n",
        "\n",
        "\n",
        "ENUNCIADO:\n",
        "\n",
        "Crear una algoritmo que exprese un numero como una suma de MAXIMO 4 cuadrados.\n",
        "(La menor cantidad de cuadrados).\n",
        "\n",
        "\n",
        "\n",
        "\n",
        "\n",
        "\n"
      ],
      "metadata": {
        "id": "Ajx3SjGl7QDL"
      }
    },
    {
      "cell_type": "code",
      "execution_count": null,
      "metadata": {
        "id": "9qxriILl7OTR"
      },
      "outputs": [],
      "source": [
        "# Importar la librería math, para utilizar la función sqrt para usar la potenciacion de 2.\n",
        "from math import sqrt\n"
      ]
    },
    {
      "cell_type": "markdown",
      "source": [
        "DESARROLLO DEL PROBLEMA:\n",
        "\n",
        "Para empezar la solución, identificamos el patrón para expresar los numeros como suma de cuadrados. Declaramos una función en la que usaremos el siguiente procedimiento:\n"
      ],
      "metadata": {
        "id": "RXAOWqOA9D3B"
      }
    },
    {
      "cell_type": "code",
      "source": [
        "def cuadrados(a):\n",
        "    cuadrados=[] # declarar una lista para contener el resultado.\n",
        "    while(a!=0): # Comenzamos un ciclo while en el que la condición sea que en cada iteración verifique si el numero inicial que se va restando es o no 0. \n",
        "        b=sqrt(a) # b será la raíz de a .\n",
        "        a=a-(int(b)**2) # a se va a restar con el cuadrado de la parte entera de b y se sobreescribirá con este resultado.\n",
        "        cuadrados.append(int(b)) #Se guardan los cuadrados cuya suma es igual al numero inicial. \n",
        "    return cuadrados"
      ],
      "metadata": {
        "id": "atnhxqyg9iIp"
      },
      "execution_count": null,
      "outputs": []
    },
    {
      "cell_type": "markdown",
      "source": [
        "De esta manera garantizamos que se utilice la menor cantidad de cuadrados en la suma. \n",
        "\n",
        "Una vez teniendo la función, procedemos a pedir el numero para generar el resultado. \n"
      ],
      "metadata": {
        "id": "3XlhS0wx_DNs"
      }
    },
    {
      "cell_type": "code",
      "source": [
        "a=int(input(\"Digite el numero: \"))\n",
        "\n",
        "result=cuadrados(a)\n",
        "print(\"El numero se puede reescribir como: \")\n",
        "\n",
        "for i in range(len(result)):\n",
        "    print(str(result[i])+\"²\",end=\"\")\n",
        "    print(\"+\",end=\"\") if i!=(len(result)-1) else print(\"\",end=\"\")"
      ],
      "metadata": {
        "colab": {
          "base_uri": "https://localhost:8080/"
        },
        "id": "cbV-cHgc_KxA",
        "outputId": "df921de5-971c-4cbf-f254-bf51b3a7de8c"
      },
      "execution_count": null,
      "outputs": [
        {
          "output_type": "stream",
          "name": "stdout",
          "text": [
            "Digite el numero: 10\n",
            "El numero se puede reescribir como: \n",
            "3²+1²"
          ]
        }
      ]
    }
  ]
}